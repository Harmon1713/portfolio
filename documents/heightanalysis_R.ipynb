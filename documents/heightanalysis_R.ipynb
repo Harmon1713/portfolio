{
 "cells": [
  {
   "cell_type": "code",
   "execution_count": 2,
   "id": "b9f12512-5f6a-46ce-b2c9-36e24282e81a",
   "metadata": {
    "vscode": {
     "languageId": "r"
    }
   },
   "outputs": [
    {
     "name": "stderr",
     "output_type": "stream",
     "text": [
      "Installing package into 'C:/Users/jacki/AppData/Local/R/win-library/4.2'\n",
      "(as 'lib' is unspecified)\n",
      "\n",
      "also installing the dependencies 'Matrix', 'numDeriv', 'SparseM', 'MatrixModels', 'minqa', 'nloptr', 'RcppEigen', 'carData', 'abind', 'pbkrtest', 'quantreg', 'lme4'\n",
      "\n",
      "\n"
     ]
    },
    {
     "name": "stdout",
     "output_type": "stream",
     "text": [
      "\n",
      "  There are binary versions available but the source versions are later:\n",
      "      binary source needs_compilation\n",
      "minqa  1.2.4  1.2.5              TRUE\n",
      "car    3.1-0  3.1-1             FALSE\n",
      "\n",
      "  Binaries will be installed\n",
      "package 'Matrix' successfully unpacked and MD5 sums checked\n",
      "package 'numDeriv' successfully unpacked and MD5 sums checked\n",
      "package 'SparseM' successfully unpacked and MD5 sums checked\n",
      "package 'MatrixModels' successfully unpacked and MD5 sums checked\n",
      "package 'minqa' successfully unpacked and MD5 sums checked\n",
      "package 'nloptr' successfully unpacked and MD5 sums checked\n",
      "package 'RcppEigen' successfully unpacked and MD5 sums checked\n",
      "package 'carData' successfully unpacked and MD5 sums checked\n",
      "package 'abind' successfully unpacked and MD5 sums checked\n",
      "package 'pbkrtest' successfully unpacked and MD5 sums checked\n",
      "package 'quantreg' successfully unpacked and MD5 sums checked\n",
      "package 'lme4' successfully unpacked and MD5 sums checked\n",
      "\n",
      "The downloaded binary packages are in\n",
      "\tC:\\Users\\jacki\\AppData\\Local\\Temp\\RtmpIXVpbb\\downloaded_packages\n"
     ]
    },
    {
     "name": "stderr",
     "output_type": "stream",
     "text": [
      "installing the source package 'car'\n",
      "\n",
      "\n"
     ]
    }
   ],
   "source": [
    "install.packages(\"car\")"
   ]
  },
  {
   "cell_type": "code",
   "execution_count": 3,
   "id": "d672038c-dac7-44a8-b390-d9aa8c39f226",
   "metadata": {
    "vscode": {
     "languageId": "r"
    }
   },
   "outputs": [
    {
     "name": "stderr",
     "output_type": "stream",
     "text": [
      "Loading required package: carData\n",
      "\n"
     ]
    }
   ],
   "source": [
    "library(\"car\")"
   ]
  },
  {
   "cell_type": "raw",
   "id": "fdffd195-87cb-485a-a48f-47989bc39f42",
   "metadata": {},
   "source": [
    "install.packages(\"caret\")"
   ]
  },
  {
   "cell_type": "code",
   "execution_count": 5,
   "id": "ed9c9dfa-a6a5-440b-9271-6e39a94d94bc",
   "metadata": {
    "vscode": {
     "languageId": "r"
    }
   },
   "outputs": [
    {
     "name": "stderr",
     "output_type": "stream",
     "text": [
      "Loading required package: ggplot2\n",
      "\n",
      "Loading required package: lattice\n",
      "\n"
     ]
    },
    {
     "ename": "ERROR",
     "evalue": "Error: package or namespace load failed for 'caret' in loadNamespace(i, c(lib.loc, .libPaths()), versionCheck = vI[[i]]):\n namespace 'rlang' 1.0.3 is already loaded, but >= 1.0.4 is required\n",
     "output_type": "error",
     "traceback": [
      "Error: package or namespace load failed for 'caret' in loadNamespace(i, c(lib.loc, .libPaths()), versionCheck = vI[[i]]):\n namespace 'rlang' 1.0.3 is already loaded, but >= 1.0.4 is required\nTraceback:\n",
      "1. library(\"caret\")",
      "2. tryCatch({\n .     attr(package, \"LibPath\") <- which.lib.loc\n .     ns <- loadNamespace(package, lib.loc)\n .     env <- attachNamespace(ns, pos = pos, deps, exclude, include.only)\n . }, error = function(e) {\n .     P <- if (!is.null(cc <- conditionCall(e))) \n .         paste(\" in\", deparse(cc)[1L])\n .     else \"\"\n .     msg <- gettextf(\"package or namespace load failed for %s%s:\\n %s\", \n .         sQuote(package), P, conditionMessage(e))\n .     if (logical.return && !quietly) \n .         message(paste(\"Error:\", msg), domain = NA)\n .     else stop(msg, call. = FALSE, domain = NA)\n . })",
      "3. tryCatchList(expr, classes, parentenv, handlers)",
      "4. tryCatchOne(expr, names, parentenv, handlers[[1L]])",
      "5. value[[3L]](cond)",
      "6. stop(msg, call. = FALSE, domain = NA)"
     ]
    }
   ],
   "source": [
    "library(\"caret\")"
   ]
  },
  {
   "cell_type": "code",
   "execution_count": 7,
   "id": "f2a1e8b7-ad69-45e9-9e12-7a0e134fc5f9",
   "metadata": {
    "vscode": {
     "languageId": "r"
    }
   },
   "outputs": [
    {
     "name": "stderr",
     "output_type": "stream",
     "text": [
      "Installing package into 'C:/Users/jacki/AppData/Local/R/win-library/4.2'\n",
      "(as 'lib' is unspecified)\n",
      "\n"
     ]
    },
    {
     "name": "stdout",
     "output_type": "stream",
     "text": [
      "package 'gvlma' successfully unpacked and MD5 sums checked\n",
      "\n",
      "The downloaded binary packages are in\n",
      "\tC:\\Users\\jacki\\AppData\\Local\\Temp\\RtmpIXVpbb\\downloaded_packages\n"
     ]
    }
   ],
   "source": [
    "install.packages(\"gvlma\")"
   ]
  },
  {
   "cell_type": "code",
   "execution_count": 8,
   "id": "6037b259-8a29-487c-90d8-3eb180321f5c",
   "metadata": {
    "vscode": {
     "languageId": "r"
    }
   },
   "outputs": [],
   "source": [
    "library(\"gvlma\")"
   ]
  },
  {
   "cell_type": "code",
   "execution_count": 9,
   "id": "ee2df4c7-91da-49c2-812f-0034bd9f16e5",
   "metadata": {
    "vscode": {
     "languageId": "r"
    }
   },
   "outputs": [
    {
     "name": "stderr",
     "output_type": "stream",
     "text": [
      "Installing package into 'C:/Users/jacki/AppData/Local/R/win-library/4.2'\n",
      "(as 'lib' is unspecified)\n",
      "\n",
      "also installing the dependency 'lmeInfo'\n",
      "\n",
      "\n"
     ]
    },
    {
     "name": "stdout",
     "output_type": "stream",
     "text": [
      "\n",
      "  There is a binary version available but the source version is later:\n",
      "        binary source needs_compilation\n",
      "lmeInfo  0.2.1  0.3.0             FALSE\n",
      "\n",
      "package 'predictmeans' successfully unpacked and MD5 sums checked\n",
      "\n",
      "The downloaded binary packages are in\n",
      "\tC:\\Users\\jacki\\AppData\\Local\\Temp\\RtmpIXVpbb\\downloaded_packages\n"
     ]
    },
    {
     "name": "stderr",
     "output_type": "stream",
     "text": [
      "installing the source package 'lmeInfo'\n",
      "\n",
      "\n"
     ]
    }
   ],
   "source": [
    "install.packages(\"predictmeans\")"
   ]
  },
  {
   "cell_type": "code",
   "execution_count": 10,
   "id": "f9fc225d-da09-4693-8a21-6b569c1542b1",
   "metadata": {
    "vscode": {
     "languageId": "r"
    }
   },
   "outputs": [
    {
     "name": "stderr",
     "output_type": "stream",
     "text": [
      "Loading required package: lme4\n",
      "\n",
      "Loading required package: Matrix\n",
      "\n",
      "Loading required package: nlme\n",
      "\n",
      "\n",
      "Attaching package: 'nlme'\n",
      "\n",
      "\n",
      "The following object is masked from 'package:lme4':\n",
      "\n",
      "    lmList\n",
      "\n",
      "\n",
      "Loading required package: lmeInfo\n",
      "\n",
      "Loading required package: parallel\n",
      "\n"
     ]
    },
    {
     "ename": "ERROR",
     "evalue": "Error: package or namespace load failed for 'predictmeans' in loadNamespace(i, c(lib.loc, .libPaths()), versionCheck = vI[[i]]):\n namespace 'rlang' 1.0.3 is already loaded, but >= 1.0.4 is required\n",
     "output_type": "error",
     "traceback": [
      "Error: package or namespace load failed for 'predictmeans' in loadNamespace(i, c(lib.loc, .libPaths()), versionCheck = vI[[i]]):\n namespace 'rlang' 1.0.3 is already loaded, but >= 1.0.4 is required\nTraceback:\n",
      "1. library(\"predictmeans\")",
      "2. tryCatch({\n .     attr(package, \"LibPath\") <- which.lib.loc\n .     ns <- loadNamespace(package, lib.loc)\n .     env <- attachNamespace(ns, pos = pos, deps, exclude, include.only)\n . }, error = function(e) {\n .     P <- if (!is.null(cc <- conditionCall(e))) \n .         paste(\" in\", deparse(cc)[1L])\n .     else \"\"\n .     msg <- gettextf(\"package or namespace load failed for %s%s:\\n %s\", \n .         sQuote(package), P, conditionMessage(e))\n .     if (logical.return && !quietly) \n .         message(paste(\"Error:\", msg), domain = NA)\n .     else stop(msg, call. = FALSE, domain = NA)\n . })",
      "3. tryCatchList(expr, classes, parentenv, handlers)",
      "4. tryCatchOne(expr, names, parentenv, handlers[[1L]])",
      "5. value[[3L]](cond)",
      "6. stop(msg, call. = FALSE, domain = NA)"
     ]
    }
   ],
   "source": [
    "library(\"predictmeans\")"
   ]
  },
  {
   "cell_type": "code",
   "execution_count": 12,
   "id": "069bb093-2af6-4cba-bccd-ff36bcb644ea",
   "metadata": {
    "vscode": {
     "languageId": "r"
    }
   },
   "outputs": [
    {
     "name": "stderr",
     "output_type": "stream",
     "text": [
      "Installing package into 'C:/Users/jacki/AppData/Local/R/win-library/4.2'\n",
      "(as 'lib' is unspecified)\n",
      "\n"
     ]
    },
    {
     "name": "stdout",
     "output_type": "stream",
     "text": [
      "package 'readxl' successfully unpacked and MD5 sums checked\n",
      "\n",
      "The downloaded binary packages are in\n",
      "\tC:\\Users\\jacki\\AppData\\Local\\Temp\\RtmpIXVpbb\\downloaded_packages\n"
     ]
    }
   ],
   "source": [
    "install.packages(\"readxl\")"
   ]
  },
  {
   "cell_type": "code",
   "execution_count": 13,
   "id": "af069909-873b-4414-9e5d-2dbe745e897d",
   "metadata": {
    "vscode": {
     "languageId": "r"
    }
   },
   "outputs": [],
   "source": [
    "library(\"readxl\")"
   ]
  },
  {
   "cell_type": "code",
   "execution_count": 18,
   "id": "67fc70f4-4c7b-4e90-8885-0b41e28da1b4",
   "metadata": {
    "vscode": {
     "languageId": "r"
    }
   },
   "outputs": [],
   "source": [
    "heights = read_excel('C:/Users/jacki/OneDrive/Desktop/Entity/DSO106C Machine Learning and Modeling/heightss.xlsx')"
   ]
  },
  {
   "cell_type": "markdown",
   "id": "9e2c574b-ed34-461b-bd54-05602af9fe0e",
   "metadata": {},
   "source": [
    "# Complete simple linear regression in R. Make sure to test, note, and correct for all assumptions if possible!"
   ]
  },
  {
   "cell_type": "markdown",
   "id": "6b8001b0-3d9f-4384-b0d5-6724df7691a4",
   "metadata": {},
   "source": [
    "## Test Assumptions"
   ]
  },
  {
   "cell_type": "markdown",
   "id": "2307b77b-96df-4c49-8e17-96848a0b5ff3",
   "metadata": {},
   "source": [
    "### 1)Linearity"
   ]
  },
  {
   "cell_type": "code",
   "execution_count": 19,
   "id": "8047fd1b-027c-43bc-8537-4855cf55c0f0",
   "metadata": {
    "vscode": {
     "languageId": "r"
    }
   },
   "outputs": [
    {
     "data": {
      "image/png": "[encoded data removed]",
      "text/plain": [
       "Plot with title \"Morning v Afternoon Height\""
      ]
     },
     "metadata": {
      "image/png": {
       "height": 420,
       "width": 420
      }
     },
     "output_type": "display_data"
    }
   ],
   "source": [
    "scatter.smooth(x=heights$AM_Height, y=heights$PM_Height, main=\"Morning v Afternoon Height\")"
   ]
  },
  {
   "cell_type": "markdown",
   "id": "74db9171-1ced-4aff-85ab-6c27504ecfa8",
   "metadata": {},
   "source": [
    "#### The data follows a straight line so linearity is assumed"
   ]
  },
  {
   "cell_type": "markdown",
   "id": "8892d495-367e-4894-8398-c054642f5282",
   "metadata": {},
   "source": [
    "### 2) Homoscedasticity"
   ]
  },
  {
   "cell_type": "code",
   "execution_count": 20,
   "id": "12a4951b-fc54-4159-b016-c2465ba1009b",
   "metadata": {
    "vscode": {
     "languageId": "r"
    }
   },
   "outputs": [],
   "source": [
    "lmModHeights = lm(PM_Height~AM_Height, data=heights)"
   ]
  },
  {
   "cell_type": "code",
   "execution_count": 21,
   "id": "5ccb0bd2-6ce5-41a9-8b79-08fba686fadd",
   "metadata": {
    "vscode": {
     "languageId": "r"
    }
   },
   "outputs": [],
   "source": [
    "par(mfrow=c(2,2))"
   ]
  },
  {
   "cell_type": "code",
   "execution_count": 22,
   "id": "ebb076bb-7778-4b1f-b14f-4c0cad8ac959",
   "metadata": {
    "vscode": {
     "languageId": "r"
    }
   },
   "outputs": [
    {
     "data": {
      "image/png": "[encoded data removed]",
      "text/plain": [
       "Plot with title \"\""
      ]
     },
     "metadata": {
      "image/png": {
       "height": 420,
       "width": 420
      }
     },
     "output_type": "display_data"
    },
    {
     "data": {
      "image/png": "[encoded data removed]",
      "text/plain": [
       "Plot with title \"\""
      ]
     },
     "metadata": {
      "image/png": {
       "height": 420,
       "width": 420
      }
     },
     "output_type": "display_data"
    },
    {
     "data": {
      "image/png": "[encoded data removed]",
      "text/plain": [
       "Plot with title \"\""
      ]
     },
     "metadata": {
      "image/png": {
       "height": 420,
       "width": 420
      }
     },
     "output_type": "display_data"
    },
    {
     "data": {
      "image/png": "[encoded data removed]",
      "text/plain": [
       "Plot with title \"\""
      ]
     },
     "metadata": {
      "image/png": {
       "height": 420,
       "width": 420
      }
     },
     "output_type": "display_data"
    }
   ],
   "source": [
    "plot(lmModHeights)"
   ]
  },
  {
   "cell_type": "markdown",
   "id": "232f5891-8ffe-4acd-a9c4-c15e79e38ab7",
   "metadata": {},
   "source": [
    "#### The graphs are not flat so there is no assumption of homoscedasticity"
   ]
  },
  {
   "cell_type": "markdown",
   "id": "4b6ec937-ea19-48ca-9a11-7db93546e0ee",
   "metadata": {},
   "source": [
    "### 2a) Breusch-Pagan Test"
   ]
  },
  {
   "cell_type": "code",
   "execution_count": 25,
   "id": "eef068e5-73f8-491f-8ccb-57e32f5ae86c",
   "metadata": {
    "vscode": {
     "languageId": "r"
    }
   },
   "outputs": [
    {
     "name": "stderr",
     "output_type": "stream",
     "text": [
      "Installing package into 'C:/Users/jacki/AppData/Local/R/win-library/4.2'\n",
      "(as 'lib' is unspecified)\n",
      "\n",
      "also installing the dependency 'zoo'\n",
      "\n",
      "\n"
     ]
    },
    {
     "name": "stdout",
     "output_type": "stream",
     "text": [
      "package 'zoo' successfully unpacked and MD5 sums checked\n",
      "package 'lmtest' successfully unpacked and MD5 sums checked\n",
      "\n",
      "The downloaded binary packages are in\n",
      "\tC:\\Users\\jacki\\AppData\\Local\\Temp\\RtmpIXVpbb\\downloaded_packages\n"
     ]
    }
   ],
   "source": [
    "install.packages(\"lmtest\")"
   ]
  },
  {
   "cell_type": "code",
   "execution_count": 26,
   "id": "8b8655c4-47e6-4d95-b3ea-ae19da1d5cf4",
   "metadata": {
    "vscode": {
     "languageId": "r"
    }
   },
   "outputs": [
    {
     "name": "stderr",
     "output_type": "stream",
     "text": [
      "Loading required package: zoo\n",
      "\n",
      "\n",
      "Attaching package: 'zoo'\n",
      "\n",
      "\n",
      "The following objects are masked from 'package:base':\n",
      "\n",
      "    as.Date, as.Date.numeric\n",
      "\n",
      "\n"
     ]
    }
   ],
   "source": [
    "library(\"lmtest\")"
   ]
  },
  {
   "cell_type": "code",
   "execution_count": 27,
   "id": "05d510cf-b01c-40ee-8180-eaf2c07ce83c",
   "metadata": {
    "vscode": {
     "languageId": "r"
    }
   },
   "outputs": [
    {
     "data": {
      "text/plain": [
       "\n",
       "\tstudentized Breusch-Pagan test\n",
       "\n",
       "data:  lmModHeights\n",
       "BP = 0.2079, df = 1, p-value = 0.6484\n"
      ]
     },
     "metadata": {},
     "output_type": "display_data"
    }
   ],
   "source": [
    "lmtest::bptest(lmModHeights)"
   ]
  },
  {
   "cell_type": "markdown",
   "id": "b7eec7a7-da44-4d95-bf36-f34e3275d957",
   "metadata": {},
   "source": [
    "#### Test was not significant, so there is homoscedasticity"
   ]
  },
  {
   "cell_type": "markdown",
   "id": "16bc795b-139e-462a-9078-06f3859e6f1a",
   "metadata": {},
   "source": [
    "### 2b) Non-Constant Variance Test"
   ]
  },
  {
   "cell_type": "code",
   "execution_count": 28,
   "id": "1a151f6b-4a10-4eef-bf18-2d3f4ac39a94",
   "metadata": {
    "vscode": {
     "languageId": "r"
    }
   },
   "outputs": [
    {
     "data": {
      "text/plain": [
       "Non-constant Variance Score Test \n",
       "Variance formula: ~ fitted.values \n",
       "Chisquare = 0.1519285, Df = 1, p = 0.6967"
      ]
     },
     "metadata": {},
     "output_type": "display_data"
    }
   ],
   "source": [
    "car::ncvTest(lmModHeights)"
   ]
  },
  {
   "cell_type": "markdown",
   "id": "3c10a74f-f069-4a03-91b8-11bcced49b83",
   "metadata": {},
   "source": [
    "#### Test was not significant, so there is homoscedasticity"
   ]
  },
  {
   "cell_type": "markdown",
   "id": "243d9727-ccd9-4b96-9666-63c919cb9eab",
   "metadata": {},
   "source": [
    "### 3) Homogeneity of Variance"
   ]
  },
  {
   "cell_type": "markdown",
   "id": "a76cf50f-75c6-44b3-a933-b7efd5e15420",
   "metadata": {},
   "source": [
    "#### Previous graphs show no assumption of homogeneity of variance can be made"
   ]
  },
  {
   "cell_type": "markdown",
   "id": "154efb8d-32a9-4464-a883-8205dfbbee1b",
   "metadata": {},
   "source": [
    "### 3a) GVLMA test"
   ]
  },
  {
   "cell_type": "code",
   "execution_count": 29,
   "id": "e8e730ca-2f05-4542-b041-2c26f86aff06",
   "metadata": {
    "vscode": {
     "languageId": "r"
    }
   },
   "outputs": [
    {
     "data": {
      "text/plain": [
       "\n",
       "Call:\n",
       "lm(formula = PM_Height ~ AM_Height, data = heights)\n",
       "\n",
       "Coefficients:\n",
       "(Intercept)    AM_Height  \n",
       "     8.6537       0.9891  \n",
       "\n",
       "\n",
       "ASSESSMENT OF THE LINEAR MODEL ASSUMPTIONS\n",
       "USING THE GLOBAL TEST ON 4 DEGREES-OF-FREEDOM:\n",
       "Level of Significance =  0.05 \n",
       "\n",
       "Call:\n",
       " gvlma(x = lmModHeights) \n",
       "\n",
       "                    Value p-value                Decision\n",
       "Global Stat        2.6500  0.6180 Assumptions acceptable.\n",
       "Skewness           0.0946  0.7584 Assumptions acceptable.\n",
       "Kurtosis           0.4953  0.4816 Assumptions acceptable.\n",
       "Link Function      1.8925  0.1689 Assumptions acceptable.\n",
       "Heteroscedasticity 0.1676  0.6823 Assumptions acceptable."
      ]
     },
     "metadata": {},
     "output_type": "display_data"
    }
   ],
   "source": [
    "gvlma(lmModHeights)"
   ]
  },
  {
   "cell_type": "markdown",
   "id": "460c4f31-9815-4a40-b0e0-d5ddf811ed06",
   "metadata": {},
   "source": [
    "#### All assumptions acceptable"
   ]
  },
  {
   "cell_type": "markdown",
   "id": "90c5197e-8bfb-4d56-aa4e-83a9ea18249a",
   "metadata": {},
   "source": [
    "### 4) Screening for Outliers (x-space)"
   ]
  },
  {
   "cell_type": "markdown",
   "id": "cba61b44-d4bd-4a5d-b220-d4e0c258f53c",
   "metadata": {},
   "source": [
    "### 4a) Cook's Distance"
   ]
  },
  {
   "cell_type": "code",
   "execution_count": null,
   "id": "86673709-e5c0-4fc6-88c0-384c62187be1",
   "metadata": {
    "vscode": {
     "languageId": "r"
    }
   },
   "outputs": [],
   "source": [
    "library(\"nlme\")"
   ]
  },
  {
   "cell_type": "code",
   "execution_count": 34,
   "id": "f60a88bb-bc47-414b-8127-bc33a90c490b",
   "metadata": {
    "vscode": {
     "languageId": "r"
    }
   },
   "outputs": [
    {
     "data": {
      "text/html": [
       "<style>\n",
       ".dl-inline {width: auto; margin:0; padding: 0}\n",
       ".dl-inline>dt, .dl-inline>dd {float: none; width: auto; display: inline-block}\n",
       ".dl-inline>dt::after {content: \":\\0020\"; padding-right: .5ex}\n",
       ".dl-inline>dt:not(:first-of-type) {padding-left: .5ex}\n",
       "</style><dl class=dl-inline><dt>1</dt><dd>0.00661627129345492</dd><dt>2</dt><dd>0.0274679845110509</dd><dt>3</dt><dd>0.15776623035353</dd><dt>4</dt><dd>0.116606843353826</dd><dt>5</dt><dd>0.0567344181387202</dd><dt>6</dt><dd>0.0260365210583517</dd><dt>7</dt><dd>0.000125635581417936</dd><dt>8</dt><dd>0.0245713846220067</dd><dt>9</dt><dd>0.00370484076204377</dd><dt>10</dt><dd>0.00876167007413068</dd><dt>11</dt><dd>8.9368713982482e-05</dd><dt>12</dt><dd>0.0895679661953509</dd><dt>13</dt><dd>0.0189982182926241</dd><dt>14</dt><dd>0.00241415361268578</dd><dt>15</dt><dd>0.00206495124712933</dd><dt>16</dt><dd>0.00137874779015549</dd><dt>17</dt><dd>0.00430783353591979</dd><dt>18</dt><dd>0.0356774613812535</dd><dt>19</dt><dd>0.00489759105020357</dd><dt>20</dt><dd>0.0074068126580982</dd><dt>21</dt><dd>0.00809263665667396</dd><dt>22</dt><dd>0.00691844173290031</dd><dt>23</dt><dd>0.00859152351342236</dd><dt>24</dt><dd>0.00260567044413377</dd><dt>25</dt><dd>0.0112703269881049</dd><dt>26</dt><dd>0.00686975391280144</dd><dt>27</dt><dd>0.0571763119344049</dd><dt>28</dt><dd>0.0453972554436859</dd><dt>29</dt><dd>0.00081067783452467</dd><dt>30</dt><dd>7.0609455683611e-05</dd><dt>31</dt><dd>0.000138470163677487</dd><dt>32</dt><dd>0.0177270139359341</dd><dt>33</dt><dd>0.05801396881331</dd><dt>34</dt><dd>0.00164535978758028</dd><dt>35</dt><dd>0.0166764499639169</dd><dt>36</dt><dd>0.0371376153993039</dd><dt>37</dt><dd>0.0715430471244357</dd><dt>38</dt><dd>0.00055679403905463</dd><dt>39</dt><dd>0.0195856280897479</dd><dt>40</dt><dd>0.0244145432462111</dd><dt>41</dt><dd>0.0373268259865776</dd></dl>\n"
      ],
      "text/latex": [
       "\\begin{description*}\n",
       "\\item[1] 0.00661627129345492\n",
       "\\item[2] 0.0274679845110509\n",
       "\\item[3] 0.15776623035353\n",
       "\\item[4] 0.116606843353826\n",
       "\\item[5] 0.0567344181387202\n",
       "\\item[6] 0.0260365210583517\n",
       "\\item[7] 0.000125635581417936\n",
       "\\item[8] 0.0245713846220067\n",
       "\\item[9] 0.00370484076204377\n",
       "\\item[10] 0.00876167007413068\n",
       "\\item[11] 8.9368713982482e-05\n",
       "\\item[12] 0.0895679661953509\n",
       "\\item[13] 0.0189982182926241\n",
       "\\item[14] 0.00241415361268578\n",
       "\\item[15] 0.00206495124712933\n",
       "\\item[16] 0.00137874779015549\n",
       "\\item[17] 0.00430783353591979\n",
       "\\item[18] 0.0356774613812535\n",
       "\\item[19] 0.00489759105020357\n",
       "\\item[20] 0.0074068126580982\n",
       "\\item[21] 0.00809263665667396\n",
       "\\item[22] 0.00691844173290031\n",
       "\\item[23] 0.00859152351342236\n",
       "\\item[24] 0.00260567044413377\n",
       "\\item[25] 0.0112703269881049\n",
       "\\item[26] 0.00686975391280144\n",
       "\\item[27] 0.0571763119344049\n",
       "\\item[28] 0.0453972554436859\n",
       "\\item[29] 0.00081067783452467\n",
       "\\item[30] 7.0609455683611e-05\n",
       "\\item[31] 0.000138470163677487\n",
       "\\item[32] 0.0177270139359341\n",
       "\\item[33] 0.05801396881331\n",
       "\\item[34] 0.00164535978758028\n",
       "\\item[35] 0.0166764499639169\n",
       "\\item[36] 0.0371376153993039\n",
       "\\item[37] 0.0715430471244357\n",
       "\\item[38] 0.00055679403905463\n",
       "\\item[39] 0.0195856280897479\n",
       "\\item[40] 0.0244145432462111\n",
       "\\item[41] 0.0373268259865776\n",
       "\\end{description*}\n"
      ],
      "text/markdown": [
       "1\n",
       ":   0.006616271293454922\n",
       ":   0.02746798451105093\n",
       ":   0.157766230353534\n",
       ":   0.1166068433538265\n",
       ":   0.05673441813872026\n",
       ":   0.02603652105835177\n",
       ":   0.0001256355814179368\n",
       ":   0.02457138462200679\n",
       ":   0.0037048407620437710\n",
       ":   0.0087616700741306811\n",
       ":   8.9368713982482e-0512\n",
       ":   0.089567966195350913\n",
       ":   0.018998218292624114\n",
       ":   0.0024141536126857815\n",
       ":   0.0020649512471293316\n",
       ":   0.0013787477901554917\n",
       ":   0.0043078335359197918\n",
       ":   0.035677461381253519\n",
       ":   0.0048975910502035720\n",
       ":   0.007406812658098221\n",
       ":   0.0080926366566739622\n",
       ":   0.0069184417329003123\n",
       ":   0.0085915235134223624\n",
       ":   0.0026056704441337725\n",
       ":   0.011270326988104926\n",
       ":   0.0068697539128014427\n",
       ":   0.057176311934404928\n",
       ":   0.045397255443685929\n",
       ":   0.0008106778345246730\n",
       ":   7.0609455683611e-0531\n",
       ":   0.00013847016367748732\n",
       ":   0.017727013935934133\n",
       ":   0.0580139688133134\n",
       ":   0.0016453597875802835\n",
       ":   0.016676449963916936\n",
       ":   0.037137615399303937\n",
       ":   0.071543047124435738\n",
       ":   0.0005567940390546339\n",
       ":   0.019585628089747940\n",
       ":   0.024414543246211141\n",
       ":   0.0373268259865776\n",
       "\n"
      ],
      "text/plain": [
       "           1            2            3            4            5            6 \n",
       "6.616271e-03 2.746798e-02 1.577662e-01 1.166068e-01 5.673442e-02 2.603652e-02 \n",
       "           7            8            9           10           11           12 \n",
       "1.256356e-04 2.457138e-02 3.704841e-03 8.761670e-03 8.936871e-05 8.956797e-02 \n",
       "          13           14           15           16           17           18 \n",
       "1.899822e-02 2.414154e-03 2.064951e-03 1.378748e-03 4.307834e-03 3.567746e-02 \n",
       "          19           20           21           22           23           24 \n",
       "4.897591e-03 7.406813e-03 8.092637e-03 6.918442e-03 8.591524e-03 2.605670e-03 \n",
       "          25           26           27           28           29           30 \n",
       "1.127033e-02 6.869754e-03 5.717631e-02 4.539726e-02 8.106778e-04 7.060946e-05 \n",
       "          31           32           33           34           35           36 \n",
       "1.384702e-04 1.772701e-02 5.801397e-02 1.645360e-03 1.667645e-02 3.713762e-02 \n",
       "          37           38           39           40           41 \n",
       "7.154305e-02 5.567940e-04 1.958563e-02 2.441454e-02 3.732683e-02 "
      ]
     },
     "metadata": {},
     "output_type": "display_data"
    }
   ],
   "source": [
    "cooks.distance(lmModHeights, group=NULL, plot=TRUE, idn=3, newwd=TRUE)"
   ]
  },
  {
   "cell_type": "markdown",
   "id": "fd0ec27a-1c70-4941-b11b-85072fb272de",
   "metadata": {},
   "source": [
    "### 4b) Leverage Values"
   ]
  },
  {
   "cell_type": "code",
   "execution_count": null,
   "id": "14a7bbcb-7cc9-4eb1-9f2d-76259a60d945",
   "metadata": {
    "vscode": {
     "languageId": "r"
    }
   },
   "outputs": [],
   "source": [
    "lev = hat(model.matrix(lmModHeights))"
   ]
  },
  {
   "cell_type": "code",
   "execution_count": 40,
   "id": "a49685b0-03e9-440d-ab5e-baf6a13808cf",
   "metadata": {
    "vscode": {
     "languageId": "r"
    }
   },
   "outputs": [
    {
     "data": {
      "image/png": "[encoded data removed]",
      "text/plain": [
       "plot without title"
      ]
     },
     "metadata": {
      "image/png": {
       "height": 420,
       "width": 420
      }
     },
     "output_type": "display_data"
    }
   ],
   "source": [
    "plot(lev)"
   ]
  },
  {
   "cell_type": "markdown",
   "id": "9aa52f1b-12db-4074-9960-a5dd2d191d58",
   "metadata": {},
   "source": [
    "#### The third point is an outlier"
   ]
  },
  {
   "cell_type": "code",
   "execution_count": 41,
   "id": "c5b354aa-38c1-4e9c-8f84-5185209c9e11",
   "metadata": {
    "vscode": {
     "languageId": "r"
    }
   },
   "outputs": [
    {
     "data": {
      "text/html": [
       "<table class=\"dataframe\">\n",
       "<caption>A tibble: 1 × 2</caption>\n",
       "<thead>\n",
       "\t<tr><th scope=col>AM_Height</th><th scope=col>PM_Height</th></tr>\n",
       "\t<tr><th scope=col>&lt;dbl&gt;</th><th scope=col>&lt;dbl&gt;</th></tr>\n",
       "</thead>\n",
       "<tbody>\n",
       "\t<tr><td>1462.25</td><td>1452.5</td></tr>\n",
       "</tbody>\n",
       "</table>\n"
      ],
      "text/latex": [
       "A tibble: 1 × 2\n",
       "\\begin{tabular}{ll}\n",
       " AM\\_Height & PM\\_Height\\\\\n",
       " <dbl> & <dbl>\\\\\n",
       "\\hline\n",
       "\t 1462.25 & 1452.5\\\\\n",
       "\\end{tabular}\n"
      ],
      "text/markdown": [
       "\n",
       "A tibble: 1 × 2\n",
       "\n",
       "| AM_Height &lt;dbl&gt; | PM_Height &lt;dbl&gt; |\n",
       "|---|---|\n",
       "| 1462.25 | 1452.5 |\n",
       "\n"
      ],
      "text/plain": [
       "  AM_Height PM_Height\n",
       "1 1462.25   1452.5   "
      ]
     },
     "metadata": {},
     "output_type": "display_data"
    }
   ],
   "source": [
    "heights[lev>.2,]"
   ]
  },
  {
   "cell_type": "markdown",
   "id": "0205d6fe-a851-4cfc-b0f7-d6658dbe08c6",
   "metadata": {},
   "source": [
    "### 4) Screening for Outliers (y-space)"
   ]
  },
  {
   "cell_type": "code",
   "execution_count": 42,
   "id": "5e3e291a-ee2f-42fa-92d0-0e8494cf20b6",
   "metadata": {
    "vscode": {
     "languageId": "r"
    }
   },
   "outputs": [
    {
     "data": {
      "text/plain": [
       "No Studentized residuals with Bonferroni p < 0.05\n",
       "Largest |rstudent|:\n",
       "    rstudent unadjusted p-value Bonferroni p\n",
       "37 -2.263445           0.029403           NA"
      ]
     },
     "metadata": {},
     "output_type": "display_data"
    }
   ],
   "source": [
    "car::outlierTest(lmModHeights)"
   ]
  },
  {
   "cell_type": "markdown",
   "id": "2d303149-e5f2-4442-9a76-5c34bce7fb64",
   "metadata": {},
   "source": [
    "### 4) Outliers (Influencial points)"
   ]
  },
  {
   "cell_type": "code",
   "execution_count": 43,
   "id": "9d2385f6-0376-477c-b54b-0f2c7a9a6eea",
   "metadata": {
    "vscode": {
     "languageId": "r"
    }
   },
   "outputs": [
    {
     "name": "stdout",
     "output_type": "stream",
     "text": [
      "Potentially influential observations of\n",
      "\t lm(formula = PM_Height ~ AM_Height, data = heights) :\n",
      "\n",
      "   dfb.1_ dfb.AM_H dffit cov.r   cook.d hat    \n",
      "3  -0.54   0.53    -0.56  1.26_*  0.16   0.21_*\n",
      "11  0.01  -0.01    -0.01  1.18_*  0.00   0.10  \n",
      "37 -0.19   0.17    -0.40  0.84_*  0.07   0.03  \n"
     ]
    }
   ],
   "source": [
    "summary(influence.measures(lmModHeights))"
   ]
  },
  {
   "cell_type": "markdown",
   "id": "a763ed73-7e64-43e6-974c-bc2463534f2c",
   "metadata": {},
   "source": [
    "#### 3, 11, and 37 should be removed from the data"
   ]
  },
  {
   "cell_type": "code",
   "execution_count": 44,
   "id": "54e0d1ef-d1a9-48bd-942f-27a446b197cb",
   "metadata": {
    "vscode": {
     "languageId": "r"
    }
   },
   "outputs": [],
   "source": [
    "heights_clean <- heights[c(1,2,5,6,7,8,9,10,13,14,15,16,17,18,19,20,21,22,23,24,25,26,27,28,29,30,31,32,33,34,35,36,38,39,40,41),]"
   ]
  },
  {
   "cell_type": "code",
   "execution_count": 45,
   "id": "32e8f820-34b3-4fed-ae7d-54c6fd83b887",
   "metadata": {
    "vscode": {
     "languageId": "r"
    }
   },
   "outputs": [],
   "source": [
    "lmModHeights_clean = lm(PM_Height~AM_Height, data=heights_clean)"
   ]
  },
  {
   "cell_type": "markdown",
   "id": "7c58c72f-87b2-4b36-9b10-54837073c5bf",
   "metadata": {},
   "source": [
    "#### COMPARE SUMMARIES"
   ]
  },
  {
   "cell_type": "code",
   "execution_count": 46,
   "id": "916c1e80-7997-4c49-9d7e-bfc04df33341",
   "metadata": {
    "vscode": {
     "languageId": "r"
    }
   },
   "outputs": [
    {
     "data": {
      "text/plain": [
       "\n",
       "Call:\n",
       "lm(formula = PM_Height ~ AM_Height, data = heights)\n",
       "\n",
       "Residuals:\n",
       "    Min      1Q  Median      3Q     Max \n",
       "-5.5694 -1.9884 -0.1255  1.6838  5.4790 \n",
       "\n",
       "Coefficients:\n",
       "            Estimate Std. Error t value Pr(>|t|)    \n",
       "(Intercept) 8.653685   8.714042   0.993    0.327    \n",
       "AM_Height   0.989149   0.005177 191.066   <2e-16 ***\n",
       "---\n",
       "Signif. codes:  0 '***' 0.001 '**' 0.01 '*' 0.05 '.' 0.1 ' ' 1\n",
       "\n",
       "Residual standard error: 2.627 on 39 degrees of freedom\n",
       "Multiple R-squared:  0.9989,\tAdjusted R-squared:  0.9989 \n",
       "F-statistic: 3.651e+04 on 1 and 39 DF,  p-value: < 2.2e-16\n"
      ]
     },
     "metadata": {},
     "output_type": "display_data"
    }
   ],
   "source": [
    "summary(lmModHeights)"
   ]
  },
  {
   "cell_type": "code",
   "execution_count": 47,
   "id": "6d17cd2d-c5ba-474c-803b-617cad15aef6",
   "metadata": {
    "vscode": {
     "languageId": "r"
    }
   },
   "outputs": [
    {
     "data": {
      "text/plain": [
       "\n",
       "Call:\n",
       "lm(formula = PM_Height ~ AM_Height, data = heights_clean)\n",
       "\n",
       "Residuals:\n",
       "   Min     1Q Median     3Q    Max \n",
       "-5.101 -1.743 -0.189  1.678  5.246 \n",
       "\n",
       "Coefficients:\n",
       "             Estimate Std. Error t value Pr(>|t|)    \n",
       "(Intercept) 16.835236   9.896369   1.701    0.098 .  \n",
       "AM_Height    0.984392   0.005892 167.079   <2e-16 ***\n",
       "---\n",
       "Signif. codes:  0 '***' 0.001 '**' 0.01 '*' 0.05 '.' 0.1 ' ' 1\n",
       "\n",
       "Residual standard error: 2.374 on 34 degrees of freedom\n",
       "Multiple R-squared:  0.9988,\tAdjusted R-squared:  0.9987 \n",
       "F-statistic: 2.792e+04 on 1 and 34 DF,  p-value: < 2.2e-16\n"
      ]
     },
     "metadata": {},
     "output_type": "display_data"
    }
   ],
   "source": [
    "summary(lmModHeights_clean)"
   ]
  },
  {
   "cell_type": "markdown",
   "id": "8ea60009-0427-4cec-a552-c1ed476e124c",
   "metadata": {},
   "source": [
    "#### No real difference in the models, so the outliers do not need to be removed"
   ]
  }
 ],
 "metadata": {
  "kernelspec": {
   "display_name": "R",
   "language": "R",
   "name": "ir"
  },
  "language_info": {
   "codemirror_mode": "r",
   "file_extension": ".r",
   "mimetype": "text/x-r-source",
   "name": "R",
   "pygments_lexer": "r",
   "version": "4.2.1"
  }
 },
 "nbformat": 4,
 "nbformat_minor": 5
}
