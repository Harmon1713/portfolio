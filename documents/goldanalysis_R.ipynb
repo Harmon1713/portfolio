{
 "cells": [
  {
   "cell_type": "code",
   "execution_count": 14,
   "id": "5fbc7654-99c4-45ff-ab4a-fe68cd5d0d26",
   "metadata": {
    "vscode": {
     "languageId": "r"
    }
   },
   "outputs": [
    {
     "name": "stderr",
     "output_type": "stream",
     "text": [
      "Warning message:\n",
      "\"package 'caret' is in use and will not be installed\"\n",
      "Warning message:\n",
      "\"package 'magrittr' is in use and will not be installed\"\n",
      "Warning message:\n",
      "\"package 'dplyr' is in use and will not be installed\"\n",
      "Warning message:\n",
      "\"package 'tidyr' is in use and will not be installed\"\n",
      "Warning message:\n",
      "\"package 'lmtest' is in use and will not be installed\"\n",
      "Installing package into 'C:/Users/jacki/AppData/Local/R/win-library/4.2'\n",
      "(as 'lib' is unspecified)\n",
      "\n"
     ]
    },
    {
     "name": "stdout",
     "output_type": "stream",
     "text": [
      "package 'popbio' successfully unpacked and MD5 sums checked\n",
      "\n",
      "The downloaded binary packages are in\n",
      "\tC:\\Users\\jacki\\AppData\\Local\\Temp\\RtmpwT5LnU\\downloaded_packages\n"
     ]
    },
    {
     "name": "stderr",
     "output_type": "stream",
     "text": [
      "\n",
      "Attaching package: 'popbio'\n",
      "\n",
      "\n",
      "The following object is masked from 'package:caret':\n",
      "\n",
      "    sensitivity\n",
      "\n",
      "\n",
      "Installing package into 'C:/Users/jacki/AppData/Local/R/win-library/4.2'\n",
      "(as 'lib' is unspecified)\n",
      "\n"
     ]
    },
    {
     "name": "stdout",
     "output_type": "stream",
     "text": [
      "\n",
      "  There is a binary version available but the source version is later:\n",
      "      binary source needs_compilation\n",
      "e1071 1.7-11 1.7-12              TRUE\n",
      "\n",
      "  Binaries will be installed\n",
      "package 'e1071' successfully unpacked and MD5 sums checked\n",
      "\n",
      "The downloaded binary packages are in\n",
      "\tC:\\Users\\jacki\\AppData\\Local\\Temp\\RtmpwT5LnU\\downloaded_packages\n"
     ]
    },
    {
     "name": "stderr",
     "output_type": "stream",
     "text": [
      "Warning message:\n",
      "\"package 'readxl' is in use and will not be installed\"\n"
     ]
    }
   ],
   "source": [
    "install.packages(\"caret\")\n",
    "library(\"caret\")\n",
    "install.packages(\"magrittr\")\n",
    "library(\"magrittr\")\n",
    "install.packages(\"dplyr\")\n",
    "library(\"dplyr\")\n",
    "install.packages(\"tidyr\")\n",
    "library(\"tidyr\")\n",
    "install.packages(\"lmtest\")\n",
    "library(\"lmtest\")\n",
    "install.packages(\"popbio\")\n",
    "library(\"popbio\")\n",
    "install.packages(\"e1071\")\n",
    "library(\"e1071\")\n",
    "install.packages(\"readxl\")\n",
    "library(\"readxl\")"
   ]
  },
  {
   "cell_type": "code",
   "execution_count": 10,
   "id": "67fc70f4-4c7b-4e90-8885-0b41e28da1b4",
   "metadata": {
    "vscode": {
     "languageId": "r"
    }
   },
   "outputs": [],
   "source": [
    "minerals = read_excel('C:/Users/jacki/OneDrive/Desktop/Entity/DSO106C Machine Learning and Modeling/mineralss.xlsx')"
   ]
  },
  {
   "cell_type": "code",
   "execution_count": 12,
   "id": "82cf0985-2ee9-4cc6-b3ba-bdf6b1780b35",
   "metadata": {
    "vscode": {
     "languageId": "r"
    }
   },
   "outputs": [
    {
     "data": {
      "text/html": [
       "<table class=\"dataframe\">\n",
       "<caption>A tibble: 6 × 2</caption>\n",
       "<thead>\n",
       "\t<tr><th scope=col>Antimony</th><th scope=col>Gold</th></tr>\n",
       "\t<tr><th scope=col>&lt;dbl&gt;</th><th scope=col>&lt;dbl&gt;</th></tr>\n",
       "</thead>\n",
       "<tbody>\n",
       "\t<tr><td>3.08</td><td>1</td></tr>\n",
       "\t<tr><td>6.15</td><td>1</td></tr>\n",
       "\t<tr><td>2.35</td><td>1</td></tr>\n",
       "\t<tr><td>0.30</td><td>0</td></tr>\n",
       "\t<tr><td>0.30</td><td>0</td></tr>\n",
       "\t<tr><td>9.62</td><td>1</td></tr>\n",
       "</tbody>\n",
       "</table>\n"
      ],
      "text/latex": [
       "A tibble: 6 × 2\n",
       "\\begin{tabular}{ll}\n",
       " Antimony & Gold\\\\\n",
       " <dbl> & <dbl>\\\\\n",
       "\\hline\n",
       "\t 3.08 & 1\\\\\n",
       "\t 6.15 & 1\\\\\n",
       "\t 2.35 & 1\\\\\n",
       "\t 0.30 & 0\\\\\n",
       "\t 0.30 & 0\\\\\n",
       "\t 9.62 & 1\\\\\n",
       "\\end{tabular}\n"
      ],
      "text/markdown": [
       "\n",
       "A tibble: 6 × 2\n",
       "\n",
       "| Antimony &lt;dbl&gt; | Gold &lt;dbl&gt; |\n",
       "|---|---|\n",
       "| 3.08 | 1 |\n",
       "| 6.15 | 1 |\n",
       "| 2.35 | 1 |\n",
       "| 0.30 | 0 |\n",
       "| 0.30 | 0 |\n",
       "| 9.62 | 1 |\n",
       "\n"
      ],
      "text/plain": [
       "  Antimony Gold\n",
       "1 3.08     1   \n",
       "2 6.15     1   \n",
       "3 2.35     1   \n",
       "4 0.30     0   \n",
       "5 0.30     0   \n",
       "6 9.62     1   "
      ]
     },
     "metadata": {},
     "output_type": "display_data"
    }
   ],
   "source": [
    "head(minerals)"
   ]
  },
  {
   "cell_type": "markdown",
   "id": "9e2c574b-ed34-461b-bd54-05602af9fe0e",
   "metadata": {},
   "source": [
    "# Complete logistic regression in R. Make sure to test, note, and correct for all assumptions if possible!"
   ]
  },
  {
   "cell_type": "markdown",
   "id": "2a865e82-59b2-4537-9d5b-8d50a55916a3",
   "metadata": {},
   "source": [
    "## Test for appropriate sample size"
   ]
  },
  {
   "cell_type": "code",
   "execution_count": 15,
   "id": "3fe02a4b-95f1-4e6b-83c0-2d0a2b272b4c",
   "metadata": {
    "vscode": {
     "languageId": "r"
    }
   },
   "outputs": [],
   "source": [
    "mylogit <- glm(Gold ~ Antimony, data=minerals, family=\"binomial\")"
   ]
  },
  {
   "cell_type": "code",
   "execution_count": 16,
   "id": "ec5093cc-ed17-47de-bb6b-b6223d3c1008",
   "metadata": {
    "vscode": {
     "languageId": "r"
    }
   },
   "outputs": [],
   "source": [
    "probabilities <- predict(mylogit, type = \"response\")"
   ]
  },
  {
   "cell_type": "code",
   "execution_count": 17,
   "id": "907c4de4-b877-425e-8ae8-5a7b8298cbc3",
   "metadata": {
    "vscode": {
     "languageId": "r"
    }
   },
   "outputs": [],
   "source": [
    "probabilities <- predict(mylogit, type = \"response\")\n",
    "minerals$Predicted <- ifelse(probabilities > .5, \"pos\", \"neg\")"
   ]
  },
  {
   "cell_type": "code",
   "execution_count": 18,
   "id": "32ca4ac1-d832-4855-8f81-d19ade539904",
   "metadata": {
    "vscode": {
     "languageId": "r"
    }
   },
   "outputs": [],
   "source": [
    "minerals$PredictedR <- NA\n",
    "minerals$PredictedR[minerals$Predicted=='pos'] <- 1\n",
    "minerals$PredictedR[minerals$Predicted=='neg'] <- 0"
   ]
  },
  {
   "cell_type": "code",
   "execution_count": 19,
   "id": "259f21dc-03a6-4ed8-9201-b6bdc5da9305",
   "metadata": {
    "vscode": {
     "languageId": "r"
    }
   },
   "outputs": [],
   "source": [
    "minerals$PredictedR <- as.factor(minerals$PredictedR)\n",
    "minerals$Gold <- as.factor(minerals$Gold)"
   ]
  },
  {
   "cell_type": "code",
   "execution_count": 20,
   "id": "0167286b-988a-45ca-8d7a-d19d814bcf20",
   "metadata": {
    "vscode": {
     "languageId": "r"
    }
   },
   "outputs": [
    {
     "data": {
      "text/plain": [
       "Confusion Matrix and Statistics\n",
       "\n",
       "          Reference\n",
       "Prediction  0  1\n",
       "         0 34  8\n",
       "         1  2 20\n",
       "                                          \n",
       "               Accuracy : 0.8438          \n",
       "                 95% CI : (0.7314, 0.9224)\n",
       "    No Information Rate : 0.5625          \n",
       "    P-Value [Acc > NIR] : 1.615e-06       \n",
       "                                          \n",
       "                  Kappa : 0.6748          \n",
       "                                          \n",
       " Mcnemar's Test P-Value : 0.1138          \n",
       "                                          \n",
       "            Sensitivity : 0.9444          \n",
       "            Specificity : 0.7143          \n",
       "         Pos Pred Value : 0.8095          \n",
       "         Neg Pred Value : 0.9091          \n",
       "             Prevalence : 0.5625          \n",
       "         Detection Rate : 0.5312          \n",
       "   Detection Prevalence : 0.6562          \n",
       "      Balanced Accuracy : 0.8294          \n",
       "                                          \n",
       "       'Positive' Class : 0               \n",
       "                                          "
      ]
     },
     "metadata": {},
     "output_type": "display_data"
    }
   ],
   "source": [
    "conf_mat <- caret::confusionMatrix(minerals$PredictedR, minerals$Gold)\n",
    "conf_mat"
   ]
  },
  {
   "cell_type": "markdown",
   "id": "aa084197-58c7-48b9-bf52-aaa5e731ee5a",
   "metadata": {},
   "source": [
    "#### 34 cases failed as planned and 20 cases passed as planned. 8 cases passed when predicted to fail and 2 cases failed when predcited to pass. There is a 82.9% accuracy rate. Howewver, if any of the four numbers in the 2x2 chart is below zero, this does meet the minimum sample size for binary logistic regression. 2<5 so this does not meet the sample size. "
   ]
  },
  {
   "cell_type": "markdown",
   "id": "7dd9fa72-8147-44fc-82d5-3f35c2855781",
   "metadata": {},
   "source": [
    "## Logit Linearity"
   ]
  },
  {
   "cell_type": "code",
   "execution_count": 21,
   "id": "18c9414b-f342-40a1-9fe1-d4c860d199be",
   "metadata": {
    "vscode": {
     "languageId": "r"
    }
   },
   "outputs": [],
   "source": [
    "minerals1 <- minerals %>% \n",
    "dplyr::select_if(is.numeric)"
   ]
  },
  {
   "cell_type": "code",
   "execution_count": 22,
   "id": "3610a1b6-0e1b-476c-a2a3-7969b9f11b39",
   "metadata": {
    "vscode": {
     "languageId": "r"
    }
   },
   "outputs": [],
   "source": [
    "predictors <- colnames(minerals1)"
   ]
  },
  {
   "cell_type": "code",
   "execution_count": 23,
   "id": "eff0ba62-de5d-4736-9d35-1f96207b8c75",
   "metadata": {
    "vscode": {
     "languageId": "r"
    }
   },
   "outputs": [],
   "source": [
    "minerals1 <- minerals1 %>%\n",
    "mutate(logit=log(probabilities/(1-probabilities))) %>%\n",
    "gather(key= \"predictors\", value=\"predictor.value\", -logit)"
   ]
  },
  {
   "cell_type": "code",
   "execution_count": 24,
   "id": "51d584bd-83c7-42d4-8a55-5c85ca624cb2",
   "metadata": {
    "vscode": {
     "languageId": "r"
    }
   },
   "outputs": [
    {
     "name": "stderr",
     "output_type": "stream",
     "text": [
      "`geom_smooth()` using formula 'y ~ x'\n",
      "\n"
     ]
    },
    {
     "data": {
      "image/png": "[encoded data removed]",
      "text/plain": [
       "plot without title"
      ]
     },
     "metadata": {
      "image/png": {
       "height": 420,
       "width": 420
      }
     },
     "output_type": "display_data"
    }
   ],
   "source": [
    "ggplot(minerals1, aes(logit, predictor.value))+\n",
    "geom_point(size=.5, alpha=.5)+\n",
    "geom_smooth(method= \"loess\")+\n",
    "theme_bw()+\n",
    "facet_wrap(~predictors, scales=\"free_y\")"
   ]
  },
  {
   "cell_type": "markdown",
   "id": "e5ed58c5-0ca7-409b-96ef-96c0943d529b",
   "metadata": {},
   "source": [
    "#### Shows a lienar relationship, so good to move on to testing the next assumption"
   ]
  },
  {
   "cell_type": "markdown",
   "id": "bf8d10b5-1720-4529-95f3-a7d0c423243d",
   "metadata": {},
   "source": [
    "## Multicollinearity"
   ]
  },
  {
   "cell_type": "code",
   "execution_count": 25,
   "id": "59d1c046-444f-4b66-9aa6-7159760069c8",
   "metadata": {
    "vscode": {
     "languageId": "r"
    }
   },
   "outputs": [
    {
     "data": {
      "image/png": "[encoded data removed]",
      "text/plain": [
       "plot without title"
      ]
     },
     "metadata": {
      "image/png": {
       "height": 420,
       "width": 420
      }
     },
     "output_type": "display_data"
    }
   ],
   "source": [
    "plot(mylogit$residuals)"
   ]
  },
  {
   "cell_type": "markdown",
   "id": "95d2286e-b2cd-45dd-a96b-c7c8be07f78d",
   "metadata": {},
   "source": [
    "#### Pretty even distribution of points all the way across the x-axis, so met the assumption of independent errors."
   ]
  },
  {
   "cell_type": "code",
   "execution_count": 26,
   "id": "4dad7d3e-f0f2-4a68-91c3-bda9252191d8",
   "metadata": {
    "vscode": {
     "languageId": "r"
    }
   },
   "outputs": [
    {
     "data": {
      "text/plain": [
       "\n",
       "\tDurbin-Watson test\n",
       "\n",
       "data:  mylogit\n",
       "DW = 1.7616, p-value = 0.3316\n",
       "alternative hypothesis: true autocorrelation is not 0\n"
      ]
     },
     "metadata": {},
     "output_type": "display_data"
    }
   ],
   "source": [
    "dwtest(mylogit, alternative=\"two.sided\")"
   ]
  },
  {
   "cell_type": "markdown",
   "id": "83e5b677-81de-40f9-bd7f-e1ece3b84037",
   "metadata": {},
   "source": [
    "#### P-value is > 0.05 so the test is statistically significant and the errors are independent."
   ]
  },
  {
   "cell_type": "markdown",
   "id": "00d30545-3062-47b2-8556-55a0ad1dd761",
   "metadata": {},
   "source": [
    "## Screening for outliers"
   ]
  },
  {
   "cell_type": "code",
   "execution_count": 27,
   "id": "d6e09d01-1885-4358-8a0a-a940c8e78947",
   "metadata": {
    "vscode": {
     "languageId": "r"
    }
   },
   "outputs": [
    {
     "name": "stdout",
     "output_type": "stream",
     "text": [
      "Potentially influential observations of\n",
      "\t glm(formula = Gold ~ Antimony, family = \"binomial\", data = minerals) :\n",
      "\n",
      "   dfb.1_ dfb.Antm dffit   cov.r   cook.d  hat  \n",
      "3  -0.08   0.20     0.22    1.11_*  0.01    0.08\n",
      "9   0.35  -0.55    -0.57_*  0.63_*  1.46_*  0.02\n",
      "25  0.26  -0.62    -0.72_*  0.95    0.23    0.08\n",
      "34  0.38  -0.22     0.39    0.88_*  0.08    0.03\n",
      "46 -0.08   0.17     0.19    1.11_*  0.01    0.08\n",
      "57 -0.08   0.18     0.20    1.11_*  0.01    0.08\n",
      "63 -0.08   0.22     0.26    1.10_*  0.01    0.08\n"
     ]
    }
   ],
   "source": [
    "infl <- influence.measures(mylogit)\n",
    "summary(infl)"
   ]
  },
  {
   "cell_type": "markdown",
   "id": "b87dbc3c-51ef-4e7a-8582-6f6f8a7e0fd4",
   "metadata": {},
   "source": [
    "#### Outliers should be examined and possibly removed if hat is greater than 0.3. None of these outliers meet that criterion, so the dataset is fine as is."
   ]
  },
  {
   "cell_type": "markdown",
   "id": "722c0a11-6cf0-4355-915e-830df7999960",
   "metadata": {},
   "source": [
    "## Interpreting Logistic model"
   ]
  },
  {
   "cell_type": "code",
   "execution_count": 28,
   "id": "e72e8560-3a6f-45f4-b3af-b717a9f343f0",
   "metadata": {
    "vscode": {
     "languageId": "r"
    }
   },
   "outputs": [
    {
     "data": {
      "text/plain": [
       "\n",
       "Call:\n",
       "glm(formula = Gold ~ Antimony, family = \"binomial\", data = minerals)\n",
       "\n",
       "Deviance Residuals: \n",
       "    Min       1Q   Median       3Q      Max  \n",
       "-3.1918  -0.5462  -0.4471   0.2447   1.9748  \n",
       "\n",
       "Coefficients:\n",
       "            Estimate Std. Error z value Pr(>|z|)    \n",
       "(Intercept)  -2.5184     0.5958  -4.227 2.37e-05 ***\n",
       "Antimony      1.7606     0.4883   3.606 0.000311 ***\n",
       "---\n",
       "Signif. codes:  0 '***' 0.001 '**' 0.01 '*' 0.05 '.' 0.1 ' ' 1\n",
       "\n",
       "(Dispersion parameter for binomial family taken to be 1)\n",
       "\n",
       "    Null deviance: 87.720  on 63  degrees of freedom\n",
       "Residual deviance: 45.332  on 62  degrees of freedom\n",
       "AIC: 49.332\n",
       "\n",
       "Number of Fisher Scoring iterations: 7\n"
      ]
     },
     "metadata": {},
     "output_type": "display_data"
    }
   ],
   "source": [
    "summary(mylogit)"
   ]
  },
  {
   "cell_type": "markdown",
   "id": "b4c7cde5-d44a-41e7-add6-bbe2d637f89d",
   "metadata": {},
   "source": [
    "#### P-value of Antimony is < 0.001. This means that the amount of Antimony is a significant predictor of gold being nearby. The estimate shows how much Antimony influences the finding of gold, meaning that for every unit increase in Antimony, the odds of finding gold nearby are increased by 1.76."
   ]
  },
  {
   "cell_type": "code",
   "execution_count": 29,
   "id": "b36ce34e-e4d7-4b46-985a-1673b40c831b",
   "metadata": {
    "vscode": {
     "languageId": "r"
    }
   },
   "outputs": [
    {
     "data": {
      "image/png": "[encoded data removed]",
      "text/plain": [
       "Plot with title \"\""
      ]
     },
     "metadata": {
      "image/png": {
       "height": 420,
       "width": 420
      }
     },
     "output_type": "display_data"
    }
   ],
   "source": [
    "logi.hist.plot(minerals$Antimony,minerals$Gold, boxp=FALSE, type=\"hist\", col=\"gray\")"
   ]
  }
 ],
 "metadata": {
  "kernelspec": {
   "display_name": "R",
   "language": "R",
   "name": "ir"
  },
  "language_info": {
   "codemirror_mode": "r",
   "file_extension": ".r",
   "mimetype": "text/x-r-source",
   "name": "R",
   "pygments_lexer": "r",
   "version": "4.2.1"
  }
 },
 "nbformat": 4,
 "nbformat_minor": 5
}
